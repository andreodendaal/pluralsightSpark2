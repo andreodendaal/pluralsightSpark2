{
 "cells": [
  {
   "cell_type": "code",
   "execution_count": null,
   "metadata": {},
   "outputs": [],
   "source": [
    "#Spark session"
   ]
  },
  {
   "cell_type": "code",
   "execution_count": 4,
   "metadata": {},
   "outputs": [],
   "source": [
    "from pyspark.sql import SparkSession\n"
   ]
  },
  {
   "cell_type": "code",
   "execution_count": 5,
   "metadata": {},
   "outputs": [],
   "source": [
    "spark = SparkSession.builder\\\n",
    "                    .appName(\"Analyzing London crime data\")\\\n",
    "                    .getOrCreate()"
   ]
  },
  {
   "cell_type": "code",
   "execution_count": null,
   "metadata": {},
   "outputs": [],
   "source": [
    "# read"
   ]
  },
  {
   "cell_type": "code",
   "execution_count": 6,
   "metadata": {},
   "outputs": [],
   "source": [
    "data =spark.read\\\n",
    "            .format(\"csv\")\\\n",
    "            .option(\"header\", \"true\")\\\n",
    "            .load(\"/data/pluralsight_spark2/02/demos/datasets/london_crime_by_lsoa.csv\")"
   ]
  },
  {
   "cell_type": "code",
   "execution_count": 8,
   "metadata": {},
   "outputs": [
    {
     "name": "stdout",
     "output_type": "stream",
     "text": [
      "root\n",
      " |-- lsoa_code: string (nullable = true)\n",
      " |-- borough: string (nullable = true)\n",
      " |-- major_category: string (nullable = true)\n",
      " |-- minor_category: string (nullable = true)\n",
      " |-- value: string (nullable = true)\n",
      " |-- year: string (nullable = true)\n",
      " |-- month: string (nullable = true)\n",
      "\n"
     ]
    }
   ],
   "source": [
    "data.printSchema()"
   ]
  },
  {
   "cell_type": "code",
   "execution_count": 9,
   "metadata": {},
   "outputs": [
    {
     "data": {
      "text/plain": [
       "13490604"
      ]
     },
     "execution_count": 9,
     "metadata": {},
     "output_type": "execute_result"
    }
   ],
   "source": [
    "data.count()"
   ]
  },
  {
   "cell_type": "code",
   "execution_count": 10,
   "metadata": {},
   "outputs": [
    {
     "name": "stdout",
     "output_type": "stream",
     "text": [
      "+---------+----------+--------------------+--------------------+-----+----+-----+\n",
      "|lsoa_code|   borough|      major_category|      minor_category|value|year|month|\n",
      "+---------+----------+--------------------+--------------------+-----+----+-----+\n",
      "|E01001116|   Croydon|            Burglary|Burglary in Other...|    0|2016|   11|\n",
      "|E01001646| Greenwich|Violence Against ...|      Other violence|    0|2016|   11|\n",
      "|E01000677|   Bromley|Violence Against ...|      Other violence|    0|2015|    5|\n",
      "|E01003774| Redbridge|            Burglary|Burglary in Other...|    0|2016|    3|\n",
      "|E01004563|Wandsworth|             Robbery|   Personal Property|    0|2008|    6|\n",
      "+---------+----------+--------------------+--------------------+-----+----+-----+\n",
      "\n"
     ]
    }
   ],
   "source": [
    "data.limit(5).show()"
   ]
  },
  {
   "cell_type": "code",
   "execution_count": 11,
   "metadata": {},
   "outputs": [
    {
     "data": {
      "text/plain": [
       "DataFrame[lsoa_code: string, borough: string, major_category: string, minor_category: string, value: string, year: string, month: string]"
      ]
     },
     "execution_count": 11,
     "metadata": {},
     "output_type": "execute_result"
    }
   ],
   "source": [
    "data.dropna()"
   ]
  },
  {
   "cell_type": "code",
   "execution_count": 13,
   "metadata": {},
   "outputs": [
    {
     "name": "stdout",
     "output_type": "stream",
     "text": [
      "+--------------------+--------------------+--------------------+-----+----+-----+\n",
      "|             borough|      major_category|      minor_category|value|year|month|\n",
      "+--------------------+--------------------+--------------------+-----+----+-----+\n",
      "|             Croydon|            Burglary|Burglary in Other...|    0|2016|   11|\n",
      "|           Greenwich|Violence Against ...|      Other violence|    0|2016|   11|\n",
      "|             Bromley|Violence Against ...|      Other violence|    0|2015|    5|\n",
      "|           Redbridge|            Burglary|Burglary in Other...|    0|2016|    3|\n",
      "|          Wandsworth|             Robbery|   Personal Property|    0|2008|    6|\n",
      "|              Ealing|  Theft and Handling|         Other Theft|    0|2012|    5|\n",
      "|              Ealing|Violence Against ...|    Offensive Weapon|    0|2010|    7|\n",
      "|            Hounslow|             Robbery|   Personal Property|    0|2013|    4|\n",
      "|              Newham|     Criminal Damage|Criminal Damage T...|    0|2013|    9|\n",
      "|              Sutton|  Theft and Handling|Theft/Taking of P...|    1|2016|    8|\n",
      "|            Haringey|  Theft and Handling|Motor Vehicle Int...|    0|2013|   12|\n",
      "|             Lambeth|Violence Against ...|      Other violence|    0|2015|    4|\n",
      "|Richmond upon Thames|             Robbery|   Personal Property|    0|2014|    1|\n",
      "|          Wandsworth|Violence Against ...|    Offensive Weapon|    0|2011|   10|\n",
      "|          Hillingdon|  Theft and Handling|Theft/Taking Of M...|    0|2016|    2|\n",
      "|            Havering|Violence Against ...|        Wounding/GBH|    0|2012|    2|\n",
      "|Barking and Dagenham|  Theft and Handling|  Other Theft Person|    1|2009|    5|\n",
      "|           Redbridge|Violence Against ...|      Common Assault|    0|2009|    6|\n",
      "|Kingston upon Thames|  Theft and Handling|    Theft From Shops|    0|2016|   11|\n",
      "|              Sutton|               Drugs| Possession Of Drugs|    0|2009|   10|\n",
      "+--------------------+--------------------+--------------------+-----+----+-----+\n",
      "only showing top 20 rows\n",
      "\n"
     ]
    }
   ],
   "source": [
    "data = data.drop(\"lsoa_code\")\n",
    "data.show()"
   ]
  },
  {
   "cell_type": "code",
   "execution_count": 14,
   "metadata": {},
   "outputs": [
    {
     "name": "stdout",
     "output_type": "stream",
     "text": [
      "+--------------------+\n",
      "|             borough|\n",
      "+--------------------+\n",
      "|             Croydon|\n",
      "|          Wandsworth|\n",
      "|              Bexley|\n",
      "|             Lambeth|\n",
      "|Barking and Dagenham|\n",
      "|              Camden|\n",
      "|           Greenwich|\n",
      "|              Newham|\n",
      "|       Tower Hamlets|\n",
      "|            Hounslow|\n",
      "|              Barnet|\n",
      "|              Harrow|\n",
      "|Kensington and Ch...|\n",
      "|           Islington|\n",
      "|               Brent|\n",
      "|            Haringey|\n",
      "|             Bromley|\n",
      "|              Merton|\n",
      "|         Westminster|\n",
      "|             Hackney|\n",
      "+--------------------+\n",
      "only showing top 20 rows\n",
      "\n"
     ]
    }
   ],
   "source": [
    "total_boroughs = data.select('borough')\\\n",
    "                        .distinct()\n",
    "total_boroughs.show()"
   ]
  },
  {
   "cell_type": "code",
   "execution_count": 15,
   "metadata": {},
   "outputs": [
    {
     "data": {
      "text/plain": [
       "33"
      ]
     },
     "execution_count": 15,
     "metadata": {},
     "output_type": "execute_result"
    }
   ],
   "source": [
    "total_boroughs.count()"
   ]
  },
  {
   "cell_type": "code",
   "execution_count": null,
   "metadata": {},
   "outputs": [],
   "source": [
    "#Filters"
   ]
  },
  {
   "cell_type": "code",
   "execution_count": 17,
   "metadata": {},
   "outputs": [
    {
     "name": "stdout",
     "output_type": "stream",
     "text": [
      "+-------+--------------------+--------------------+-----+----+-----+\n",
      "|borough|      major_category|      minor_category|value|year|month|\n",
      "+-------+--------------------+--------------------+-----+----+-----+\n",
      "|Hackney|     Criminal Damage|Criminal Damage T...|    0|2011|    6|\n",
      "|Hackney|Violence Against ...|          Harassment|    1|2013|    2|\n",
      "|Hackney|     Criminal Damage|Other Criminal Da...|    0|2011|    7|\n",
      "|Hackney|Violence Against ...|        Wounding/GBH|    0|2013|   12|\n",
      "|Hackney|  Theft and Handling|  Other Theft Person|    0|2016|    8|\n",
      "|Hackney|            Burglary|Burglary in a Dwe...|    2|2008|    5|\n",
      "|Hackney|             Robbery|   Business Property|    0|2016|    7|\n",
      "|Hackney|  Theft and Handling|Theft/Taking of P...|    0|2009|   12|\n",
      "|Hackney|               Drugs|    Drug Trafficking|    0|2014|    4|\n",
      "|Hackney|  Theft and Handling|Handling Stolen G...|    0|2014|    6|\n",
      "|Hackney|            Burglary|Burglary in Other...|    0|2008|   12|\n",
      "|Hackney|Violence Against ...| Assault with Injury|    0|2010|    1|\n",
      "|Hackney|  Theft and Handling|  Other Theft Person|    0|2008|    8|\n",
      "|Hackney|Violence Against ...| Assault with Injury|    2|2015|    5|\n",
      "|Hackney|  Theft and Handling|Theft/Taking Of M...|    0|2009|   12|\n",
      "|Hackney|Violence Against ...|    Offensive Weapon|    0|2015|    9|\n",
      "|Hackney|Violence Against ...|          Harassment|    2|2008|   10|\n",
      "|Hackney|Violence Against ...|          Harassment|    0|2015|    3|\n",
      "|Hackney|  Theft and Handling|  Other Theft Person|    1|2009|    5|\n",
      "|Hackney|Other Notifiable ...|    Other Notifiable|    0|2008|    9|\n",
      "+-------+--------------------+--------------------+-----+----+-----+\n",
      "only showing top 20 rows\n",
      "\n"
     ]
    }
   ],
   "source": [
    "hackney_data = data.filter(data['borough'] == \"Hackney\")\n",
    "hackney_data.show()"
   ]
  },
  {
   "cell_type": "markdown",
   "metadata": {},
   "source": [
    "# isin filter"
   ]
  },
  {
   "cell_type": "code",
   "execution_count": 18,
   "metadata": {},
   "outputs": [
    {
     "name": "stdout",
     "output_type": "stream",
     "text": [
      "+--------------------+--------------------+--------------------+-----+----+-----+\n",
      "|             borough|      major_category|      minor_category|value|year|month|\n",
      "+--------------------+--------------------+--------------------+-----+----+-----+\n",
      "|           Redbridge|            Burglary|Burglary in Other...|    0|2016|    3|\n",
      "|            Hounslow|     Criminal Damage|Criminal Damage T...|    0|2015|    2|\n",
      "|              Newham|     Criminal Damage|Criminal Damage T...|    0|2015|    1|\n",
      "|             Croydon|             Robbery|   Personal Property|    0|2016|    1|\n",
      "|             Lambeth|               Drugs|    Drug Trafficking|    0|2015|    9|\n",
      "|           Redbridge|               Drugs| Possession Of Drugs|    2|2016|   11|\n",
      "|         Westminster|  Theft and Handling|Theft From Motor ...|    6|2016|    8|\n",
      "|              Harrow|               Drugs| Possession Of Drugs|    0|2016|   11|\n",
      "|           Redbridge|            Burglary|Burglary in Other...|    0|2015|    2|\n",
      "|Hammersmith and F...|     Criminal Damage|Criminal Damage T...|    0|2015|    8|\n",
      "|             Enfield|  Theft and Handling|Theft From Motor ...|    2|2015|   10|\n",
      "|Kensington and Ch...|  Theft and Handling|         Other Theft|    7|2016|    1|\n",
      "|             Lambeth|               Drugs|    Drug Trafficking|    0|2015|    5|\n",
      "|             Bromley|               Drugs| Possession Of Drugs|    1|2016|    1|\n",
      "|          Hillingdon|            Burglary|Burglary in Other...|    0|2016|   12|\n",
      "|           Redbridge|Other Notifiable ...|      Going Equipped|    0|2015|    9|\n",
      "|            Havering|Violence Against ...|    Offensive Weapon|    0|2016|   11|\n",
      "|              Merton|     Criminal Damage|Criminal Damage T...|    0|2016|    5|\n",
      "|             Croydon|Violence Against ...|        Wounding/GBH|    0|2016|   10|\n",
      "|           Redbridge|  Theft and Handling|Motor Vehicle Int...|    0|2015|    6|\n",
      "+--------------------+--------------------+--------------------+-----+----+-----+\n",
      "only showing top 20 rows\n",
      "\n"
     ]
    }
   ],
   "source": [
    "data_2015_2016 = data.filter(data['year'].isin([\"2015\", \"2016\"]))\n",
    "data_2015_2016.sample(fraction=0.1).show()"
   ]
  },
  {
   "cell_type": "code",
   "execution_count": 21,
   "metadata": {},
   "outputs": [
    {
     "name": "stdout",
     "output_type": "stream",
     "text": [
      "+--------------------+--------------------+--------------------+-----+----+-----+\n",
      "|             borough|      major_category|      minor_category|value|year|month|\n",
      "+--------------------+--------------------+--------------------+-----+----+-----+\n",
      "|              Newham|  Theft and Handling|Theft/Taking of P...|    0|2016|    3|\n",
      "|              Newham|Violence Against ...|      Other violence|    0|2015|    3|\n",
      "|            Hounslow|Violence Against ...|    Offensive Weapon|    1|2015|   10|\n",
      "|              Ealing|             Robbery|   Personal Property|    0|2014|    9|\n",
      "|Kingston upon Thames|Other Notifiable ...|      Going Equipped|    0|2014|    5|\n",
      "|              Newham|Violence Against ...|          Harassment|    0|2014|    1|\n",
      "|              Ealing|Violence Against ...|      Common Assault|    1|2015|   12|\n",
      "|       Tower Hamlets|  Theft and Handling|Handling Stolen G...|    0|2015|   10|\n",
      "|Richmond upon Thames|  Theft and Handling|Theft/Taking of P...|    0|2016|   10|\n",
      "|             Hackney|Violence Against ...| Assault with Injury|    2|2015|    5|\n",
      "|              Ealing|            Burglary|Burglary in Other...|    0|2016|    5|\n",
      "|             Bromley|     Criminal Damage|Other Criminal Da...|    0|2015|   12|\n",
      "|Richmond upon Thames|Violence Against ...|    Offensive Weapon|    0|2014|   11|\n",
      "|       Tower Hamlets|Violence Against ...|          Harassment|    1|2016|   10|\n",
      "|            Hounslow|Violence Against ...|      Other violence|    0|2014|    2|\n",
      "|             Hackney|Violence Against ...|          Harassment|    0|2015|    3|\n",
      "|              Merton|Violence Against ...|          Harassment|    0|2015|    5|\n",
      "|              Merton|     Criminal Damage|Criminal Damage T...|    0|2016|    5|\n",
      "|             Enfield|               Drugs|    Drug Trafficking|    0|2016|   12|\n",
      "|             Croydon|Violence Against ...|        Wounding/GBH|    0|2016|   10|\n",
      "+--------------------+--------------------+--------------------+-----+----+-----+\n",
      "only showing top 20 rows\n",
      "\n"
     ]
    }
   ],
   "source": [
    "data_2014_onwards = data.filter(data['year'] >= 2014)\n",
    "data_2014_onwards.sample(fraction=0.1).show()"
   ]
  },
  {
   "cell_type": "code",
   "execution_count": null,
   "metadata": {},
   "outputs": [],
   "source": []
  }
 ],
 "metadata": {
  "kernelspec": {
   "display_name": "Python 3",
   "language": "python",
   "name": "python3"
  },
  "language_info": {
   "codemirror_mode": {
    "name": "ipython",
    "version": 3
   },
   "file_extension": ".py",
   "mimetype": "text/x-python",
   "name": "python",
   "nbconvert_exporter": "python",
   "pygments_lexer": "ipython3",
   "version": "3.6.5"
  }
 },
 "nbformat": 4,
 "nbformat_minor": 2
}
